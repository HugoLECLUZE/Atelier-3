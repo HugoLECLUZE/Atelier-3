{
 "cells": [
  {
   "cell_type": "markdown",
   "metadata": {},
   "source": [
    "## Atelier 3"
   ]
  },
  {
   "cell_type": "code",
   "execution_count": 1,
   "metadata": {},
   "outputs": [
    {
     "name": "stdout",
     "output_type": "stream",
     "text": [
      "How many Stylos at €1.20 ?\n",
      "How many Cahier at €3.50 ?\n",
      "+---------------+---------+-----+----------+\n",
      "| Product       | € Unit  | Qty |   price  |\n",
      "+---------------+---------+-----+----------+\n",
      "| Stylos        |   1.20€ |   7 |    8.40€ |\n",
      "| Cahier        |   3.50€ |   3 |   10.50€ |\n",
      "+---------------+---------+-----+----------+\n",
      "                                |   18.90€ |\n",
      "                                +----------+\n"
     ]
    }
   ],
   "source": [
    "import java.util.Scanner;\n",
    "\n",
    "Scanner keyboard = new Scanner(System.in);\n",
    "\n",
    "void displayGridLine() {\n",
    "    System.out.println(\"+---------------+---------+-----+----------+\");\n",
    "}\n",
    "\n",
    "void displayProductGridHeader() {\n",
    "displayGridLine();\n",
    "System.out.println(\"| Product       | € Unit  | Qty |   price  |\");\n",
    "displayGridLine();\n",
    "}\n",
    "\n",
    "void displayProductGridFooter(double total) {\n",
    "displayGridLine();\n",
    "System.out.printf(\"                                | %7.2f€ |\\n\", total);\n",
    "System.out.println(\"                                +----------+\");\n",
    "}\n",
    "\n",
    " int inputProductQuantity(Scanner keyboard, String productName, double unitPrice) {\n",
    "    int quantity;\n",
    "    do {\n",
    "        System.out.printf(\"How many %s at €%.2f ?\\n\", productName, unitPrice);\n",
    "        quantity = keyboard.nextInt();\n",
    "        \n",
    "        if (quantity < 0 || quantity > 900) {\n",
    "            System.out.println(\"Error: quantity must be between 0 and 900 inclusive.\");\n",
    "        }\n",
    "    } while (quantity < 0 || quantity > 900);\n",
    "    \n",
    "    return quantity;\n",
    "}\n",
    "double displayProductGridEntry(String productName, double unitPrice, int quantity) {\n",
    "    double price = unitPrice * (double)quantity;\n",
    "    System.out.printf(\"| %-13s | %6.2f€ | %3d | %7.2f€ |\\n\", productName, unitPrice, quantity, price);\n",
    "    return price;\n",
    "}\n",
    "    String productName1 = \"Stylos\"; \n",
    "    double unitPrice1 = 1.2; \n",
    "    \n",
    "    int quantity1 = inputProductQuantity(keyboard, productName1, unitPrice1);\n",
    "    \n",
    "    String productName2 = \"Cahier\";\n",
    "    double unitPrice2 = 3.5;\n",
    "    \n",
    "    int quantity2 = inputProductQuantity(keyboard, productName2, unitPrice2);\n",
    "    \n",
    "    keyboard.close();\n",
    "    \n",
    "    double total = 0;\n",
    "    \n",
    "    displayProductGridHeader();\n",
    "    total += displayProductGridEntry(productName1, unitPrice1, quantity1);\n",
    "    total += displayProductGridEntry(productName2, unitPrice2, quantity2);\n",
    "    displayProductGridFooter(total);"
   ]
  }
 ],
 "metadata": {
  "kernelspec": {
   "display_name": "Java (rjk 2.2.0)",
   "language": "java",
   "name": "rapaio-jupyter-kernel"
  },
  "language_info": {
   "codemirror_mode": "java",
   "file_extension": ".jshell",
   "mimetype": "text/x-java-source",
   "name": "java",
   "nbconvert_exporter": "script",
   "pygments_lexer": "java",
   "version": "21.0.5+11-LTS"
  }
 },
 "nbformat": 4,
 "nbformat_minor": 2
}
